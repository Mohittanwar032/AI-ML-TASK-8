{
 "cells": [
  {
   "cell_type": "code",
   "execution_count": null,
   "id": "5cf25589",
   "metadata": {
    "vscode": {
     "languageId": "plaintext"
    }
   },
   "outputs": [],
   "source": [
    "# Import libraries\n",
    "import pandas as pd\n",
    "import matplotlib.pyplot as plt\n",
    "import seaborn as sns\n",
    "from sklearn.cluster import KMeans\n",
    "from sklearn.metrics import silhouette_score\n",
    "# Load dataset\n",
    "df = pd.read_csv(\"Mall_Customers.csv\")\n",
    "df.head()\n",
    "# Info and basic stats\n",
    "print(df.info())\n",
    "print(df.describe())\n",
    "\n",
    "# Select features\n",
    "X = df[['Annual Income (k$)', 'Spending Score (1-100)']]\n",
    "\n",
    "# Visualize original data\n",
    "plt.scatter(X['Annual Income (k$)'], X['Spending Score (1-100)'])\n",
    "plt.xlabel('Annual Income')\n",
    "plt.ylabel('Spending Score')\n",
    "plt.title('Customer Distribution')\n",
    "plt.show()\n",
    "# KMeans with 5 clusters\n",
    "kmeans = KMeans(n_clusters=5, random_state=42)\n",
    "kmeans.fit(X)\n",
    "\n",
    "# Add cluster column\n",
    "df['Cluster'] = kmeans.labels_\n",
    "inertia = []\n",
    "for k in range(1, 11):\n",
    "    km = KMeans(n_clusters=k, random_state=42)\n",
    "    km.fit(X)\n",
    "    inertia.append(km.inertia_)\n",
    "\n",
    "# Plot elbow\n",
    "plt.plot(range(1, 11), inertia, 'bo-')\n",
    "plt.xlabel('Number of Clusters')\n",
    "plt.ylabel('Inertia')\n",
    "plt.title('Elbow Method')\n",
    "plt.show()\n",
    "# Visualize clusters\n",
    "sns.scatterplot(x='Annual Income (k$)', y='Spending Score (1-100)', hue='Cluster', data=df, palette='Set2')\n",
    "plt.title('Customer Segments')\n",
    "plt.show()\n",
    "# Calculate silhouette score\n",
    "score = silhouette_score(X, df['Cluster'])\n",
    "print(\"Silhouette Score:\", score)"
   ]
  }
 ],
 "metadata": {
  "language_info": {
   "name": "python"
  }
 },
 "nbformat": 4,
 "nbformat_minor": 5
}
